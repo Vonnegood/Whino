{
 "cells": [
  {
   "cell_type": "code",
   "execution_count": null,
   "metadata": {},
   "outputs": [],
   "source": [
    "import pandas as pd"
   ]
  },
  {
   "cell_type": "code",
   "execution_count": null,
   "metadata": {},
   "outputs": [],
   "source": [
    "wine_df = pd.read_csv(\"wine_reviews_kaggle.csv\")\n",
    "wine_df.head()"
   ]
  },
  {
   "cell_type": "code",
   "execution_count": null,
   "metadata": {},
   "outputs": [],
   "source": [
    "wine_df.count()"
   ]
  },
  {
   "cell_type": "code",
   "execution_count": 8,
   "metadata": {},
   "outputs": [],
   "source": [
    "wine_df = wine_df.dropna(how='any')"
   ]
  },
  {
   "cell_type": "code",
   "execution_count": 7,
   "metadata": {},
   "outputs": [
    {
     "data": {
      "text/html": [
       "<div>\n",
       "<style scoped>\n",
       "    .dataframe tbody tr th:only-of-type {\n",
       "        vertical-align: middle;\n",
       "    }\n",
       "\n",
       "    .dataframe tbody tr th {\n",
       "        vertical-align: top;\n",
       "    }\n",
       "\n",
       "    .dataframe thead th {\n",
       "        text-align: right;\n",
       "    }\n",
       "</style>\n",
       "<table border=\"1\" class=\"dataframe\">\n",
       "  <thead>\n",
       "    <tr style=\"text-align: right;\">\n",
       "      <th></th>\n",
       "      <th>Total Reviews</th>\n",
       "    </tr>\n",
       "  </thead>\n",
       "  <tbody>\n",
       "    <tr>\n",
       "      <th>0</th>\n",
       "      <td>707</td>\n",
       "    </tr>\n",
       "  </tbody>\n",
       "</table>\n",
       "</div>"
      ],
      "text/plain": [
       "   Total Reviews\n",
       "0            707"
      ]
     },
     "execution_count": 7,
     "metadata": {},
     "output_type": "execute_result"
    }
   ],
   "source": [
    "#count \n",
    "total_unique_wines = wine_df[\"variety\"].nunique()\n",
    "\n",
    "#create total players dataframe\n",
    "total_wine_df = pd.DataFrame({\"Total Reviews\" : [total_unique_wines]})\n",
    "\n",
    "#display dataframe\n",
    "total_wine_df"
   ]
  },
  {
   "cell_type": "code",
   "execution_count": null,
   "metadata": {},
   "outputs": [],
   "source": [
    "#variable to hold unique count of Item ID\n",
    "unique_wines = wine_df[\"variety\"].nunique()\n",
    "\n",
    "#variable to hold mean value of Price\n",
    "average_price = wine_df[\"price\"].mean()\n",
    "\n",
    "#variable to hold count of Item ID\n",
    "average_points = wine_df[\"points\"].mean()\n",
    "\n",
    "#creates dataframe that combines the above variables \n",
    "wine_analysis_df = pd.DataFrame({\"Variety_count\" : [unique_items]\n",
    "                                     ,\"Average Price\" : [average_price]\n",
    "                                     ,\"Average Points\" : [total_purchases]\n",
    "                                     })\n",
    "#format Average Price to currency\n",
    "wine_analysis_df[\"Average Price\"] = purchase_analysis_df[\"Average Price\"].map(\"${:,.2f}\".format)\n",
    "\n",
    "#format Total Revenue to currency\n",
    "purchase_analysis_df[\"Total Revenue\"] = purchase_analysis_df[\"Total Revenue\"].map(\"${:,.2f}\".format)\n",
    "\n",
    "#order the columns in the dataframe\n",
    "purchase_analysis_df = purchase_analysis_df[[\"Number of Unique Items\", \"Average Price\", \"Number of Purchases\", \"Total Revenue\"]]\n",
    "\n",
    "#display dataframe\n",
    "purchase_analysis_df\n"
   ]
  },
  {
   "cell_type": "code",
   "execution_count": null,
   "metadata": {},
   "outputs": [],
   "source": []
  }
 ],
 "metadata": {
  "kernelspec": {
   "display_name": "Python [conda env:PythonData]",
   "language": "python",
   "name": "conda-env-PythonData-py"
  },
  "language_info": {
   "codemirror_mode": {
    "name": "ipython",
    "version": 3
   },
   "file_extension": ".py",
   "mimetype": "text/x-python",
   "name": "python",
   "nbconvert_exporter": "python",
   "pygments_lexer": "ipython3",
   "version": "3.6.4"
  }
 },
 "nbformat": 4,
 "nbformat_minor": 2
}
